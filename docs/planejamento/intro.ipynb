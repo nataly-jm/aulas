{
  "cells": [
    {
      "cell_type": "raw",
      "metadata": {},
      "source": [
        "---\n",
        "title: \"PLANEJAMENTO DE EXPERIMENTOS I   STA13827\"\n",
        "subtitle: \"Introdução\"\n",
        "author: \"Nátaly A. Jiménez Monroy\"\n",
        "institute: \"LECON/DEST - UFES\"\n",
        "format: \n",
        "  revealjs:\n",
        "    theme: moon\n",
        "    logo: C:\\Users\\nataly.monroy\\Documents\\Disciplinas\\aulas\\docs\\planejamento\\images\\logo_lecon.png\n",
        "    footer: \"Material elaborado pela equipe LECON/NEAEST: Alessandro J. Q. Sarnaglia, Bartolomeu Zamprogno, Fabio A. Fajardo, Luciana G. de Godoi e Nátaly A. Jiménez M.\"\n",
        "editor: visual\n",
        "incremental: true  \n",
        "---"
      ],
      "id": "f94aec7e"
    },
    {
      "cell_type": "markdown",
      "metadata": {},
      "source": [
        "```\n",
        "{css, echo = FALSE}\n",
        ".justify {\n",
        "  text-align: justify\n",
        "}\n",
        "\n",
        "```\n",
        "\n",
        "# Introdução {transition=\"fade\" transition-speed=\"slow\"}"
      ],
      "id": "f5d69881"
    },
    {
      "cell_type": "raw",
      "metadata": {},
      "source": [
        "---\n",
        "\n",
        "## Objetivos do Delineamento Experimental\n",
        "\n",
        "-   Determinar quais variáveis influenciam mais na resposta $Y$.\n",
        "\n",
        "-   Determinar o nível de $X=(X_1,...,X_p)$ que conduz ao $Y$ mais próximo do valor desejado.\n",
        "\n",
        "-   Determinar o nível de $X=(X_1,...,X_p)$ que minimiza a variabilidade de $Y$.\n",
        "\n",
        "-   Determinar o nível de $X=(X_1,...,X_p)$ que minimiza os efeitos das variáveis não controladas $Z=(Z_1,...,Z_q)$.\n",
        "\n",
        "---"
      ],
      "id": "bb2c022d"
    },
    {
      "cell_type": "markdown",
      "metadata": {},
      "source": [
        "# Algumas aplicações"
      ],
      "id": "316ec66f"
    },
    {
      "cell_type": "raw",
      "metadata": {},
      "source": [
        "---\n",
        "\n",
        "### Desenvolvimento de processos\n",
        "\n",
        "-   Melhoramento da produtividade do processo.\n",
        "\n",
        "-   Redução da variabilidade (resultados mais próximos do padrão/meta requerido).\n",
        "\n",
        "-   Redução do tempo de desenvolvimento.\n",
        "\n",
        "-   Redução geral de custos.\n",
        "\n",
        "---"
      ],
      "id": "a7ec5e66"
    },
    {
      "cell_type": "markdown",
      "metadata": {},
      "source": [
        "### Desenvolvimento de produtos\n",
        "\n",
        "-   Avaliação e comparação de configurações delineadas básicas (padrão).\n",
        "\n",
        "-   Avaliação de materiais alternativos.\n",
        "\n",
        "-   Seleção e delineamento de parâmetros de modo a tornar produtos mais robustos.\n",
        "\n",
        "-   Determinação de parâmetros chaves que têm impacto na performance de produtos."
      ],
      "id": "54f53e99"
    },
    {
      "cell_type": "raw",
      "metadata": {},
      "source": [
        "---\n",
        "\n",
        "# Fases do Planejamento de Experimentos\n",
        "\n",
        "---"
      ],
      "id": "46ac350b"
    },
    {
      "cell_type": "markdown",
      "metadata": {},
      "source": [
        "-   Reconhecimento e declaração do problema.\n",
        "\n",
        "-   Escolha dos fatores e níveis.\n",
        "\n",
        "-   Seleção das variáveis resposta (depende do objetivo do estudo).\n",
        "\n",
        "-   Escolha do delineamento experimental (depende do objetivo do estudo, natureza do material experimental, etc).\n",
        "\n",
        "-   Execução do experimento.\n",
        "\n",
        "-   Análise dos dados.\n",
        "\n",
        "-   Conclusões e recomendações."
      ],
      "id": "a6f0d1b1"
    },
    {
      "cell_type": "raw",
      "metadata": {},
      "source": [
        "---\n",
        "\n",
        "# Definições Básicas\n",
        "\n",
        "---"
      ],
      "id": "add93967"
    },
    {
      "cell_type": "markdown",
      "metadata": {},
      "source": [
        "-   **Unidade experimental**: É a unidade [física]{style=\"color:lightblue\"} ou [biológica]{style=\"color:lightblue\"} para conduzir o experimento, também denominada de <ins> parcela </ins>.\n",
        "\n",
        "-   **Variável (fator)**: É a condição ou característica medida ou observada no experimento.\n",
        "\n",
        "-   **Repetição ou réplica**: São as unidades experimentais de um mesmo grupo. O objetivo da repetição é aumentar a confiabilidade da análise, pois ao comparar dois grupos com várias réplicas cada ao invés de comparar dois grupos com apenas um unidade experimental cada, iremos eliminar o efeito de outras variáveis indesejadas."
      ],
      "id": "16a85e54"
    },
    {
      "cell_type": "raw",
      "metadata": {},
      "source": [
        "---\n",
        "\n",
        "-   **Tratamento**: É o elemento que está em teste no experimento. Exemplo: um método de ensino, um fertilizante, uma droga terapêutica, etc.\n",
        "\n",
        "    - Qualitativos: Aqueles que possuem naturezas intrinsecamente diferentes. Ex.: comparar dois tipos de drogas terapêuticas para dor de cabeça (Paracetamol vs Dipirona Sódica), três tipos de fertilizantes (diferentes marcas), etc.\n",
        "    \n",
        "    - Quantitativos: Aqueles que se distinguem pela quantidade (dose) que está sendo utilizada no experimento.\n",
        "\n",
        "---"
      ],
      "id": "c9d91d27"
    },
    {
      "cell_type": "markdown",
      "metadata": {},
      "source": [
        "-   **Grupo controle**: Quando se deseja estudar o efeito de um ou mais tratamentos em relação à situação sem nenhum tratamento, o grupo controle é o grupo de unidades experimentais que não recebe tratamento.\n",
        "\n",
        "-   **Casualização ou randomização**: É o processo de designar os tratamentos às unidades experimentais por processo aleatório. O objetivo é criar grupos o mais homogêneos possíveis.\n",
        "\n",
        "-   **Experimentação cega**: É a experimentação em que o pesquisador executa as medições sem saber a que grupo pertence a unidade experimental. O objetivo desta estratégia é evitar qualquer tendência (vício por parte do pesquisador)."
      ],
      "id": "6744358c"
    },
    {
      "cell_type": "raw",
      "metadata": {},
      "source": [
        "---\n",
        "\n",
        "-   **Experimentação duplamente cega**: Ocorre quando as unidades experimentais são pessoas, neste caso a estratégia para eliminar vícios no experimento seria não informar ao pesquisador e nem à pessoa participante do experimento a qual grupo pertence.\n",
        "\n",
        "-   **Experimentação triplamente cega**: Nesta situação nem o pesquisador, nem a pessoa participante do experimento e nem a pessoa que irá analisar os dados sabem a qual grupo pertence cada unidade experimental.\n",
        "\n",
        "---"
      ],
      "id": "b6f4581a"
    },
    {
      "cell_type": "markdown",
      "metadata": {},
      "source": [
        "### Em Resumo...\n",
        "\n",
        "-   A [Aleatorização]{style=\"color:lightblue\"} torna os testes estatísticos válidos.<br></br>\n",
        "-   A [Repetição]{style=\"color:lightblue\"} faz os testes estatísticos possíveis.<br></br>\n",
        "-   O [controle]{style=\"color:lightblue\"} local faz o experimento mais eficiente."
      ],
      "id": "c53eb801"
    },
    {
      "cell_type": "raw",
      "metadata": {},
      "source": [
        "---\n",
        "\n",
        "# Elementos de um delineamento experimental\n",
        "\n",
        "---"
      ],
      "id": "99f8ce92"
    },
    {
      "cell_type": "markdown",
      "metadata": {},
      "source": [
        "- A unidade experimental. <br></br> \n",
        "- A variável em análise e a forma como será medida.<br></br> \n",
        "- Os tratamentos em comparação. <br></br> \n",
        "- A forma como os tratamentos serão designados àsunidades experimentais. <br></br> \n",
        "- O número de unidades experimentais em cada grupo."
      ],
      "id": "62bc9e6a"
    },
    {
      "cell_type": "raw",
      "metadata": {},
      "source": [
        "---\n",
        "\n",
        "# Delineamento estatístico de experimento\n",
        "\n",
        "---"
      ],
      "id": "17e82dcf"
    },
    {
      "cell_type": "markdown",
      "metadata": {},
      "source": [
        "Refere-se ao [processo de planejamento]{style=\"color:lightblue\"} de um experimento de modo que possam ser obtidos e analisados dados apropriados, resultando em conclusões válidas e objetivas.\n",
        "\n",
        "-   **Delineamento Inteiramente ao Acaso**: O pesquisador dispõe de unidades similares para conduzir seu experimento, deve designar os tratamentos às unidades por puro e simples sorteio, sem qualquer restrição."
      ],
      "id": "0446a15e"
    },
    {
      "cell_type": "raw",
      "metadata": {},
      "source": [
        "---\n",
        "\n",
        "   [Exemplo:]{style=\"color:red\"} Para comparar três anti-inflamatórios (A, B e C) sobre a inflamação produzida em ratos, um pesquisador dispunha de 12 ratos similares. Deste modo, sorteou e aplicou o anti-inflamatório A para quatro ratos, o anti-inflamatório B para quatro ratos e o aplicou o anti-inflamatório C para os quatro ratos restantes.\n",
        "\n",
        ". . .\n",
        "\n",
        "> [Observação:]{style=\"color:yellow\"} Do ponto de vista estatístico é recomendável que todos os tratamentos tenham o mesmo número de réplicas. Se não for possível, é recomendável que o grupo controle tenha o <ins>menor número de réplicas</ins>.\n",
        "\n",
        "---"
      ],
      "id": "badccf00"
    },
    {
      "cell_type": "markdown",
      "metadata": {},
      "source": [
        "-   **Delineamento em Blocos Casualizados (Aleatorizados)**: O pesquisador dispõe de pequenos grupos de unidades similares, mas nenhum deles com número suficiente de unidades para fazer um experimento inteiramente ao acaso. Isto é feito designando os tratamentos de modo aleatório dentro de cada bloco.\n",
        "\n",
        ". . .\n",
        "\n",
        "   [Exemplo:]{style=\"color:red\"} Para comparar o efeito de quatro rações (A, B, C e D) sobre o peso de animais, o pesquisador dispunha de 12 animais com pesos diferentes. Para sortear as rações o pesquisador organizou os animais com pesos próximos em três blocos para depois sortear os tratamentos às unidades de cada bloco."
      ],
      "id": "a3cc1751"
    },
    {
      "cell_type": "raw",
      "metadata": {},
      "source": [
        "---\n",
        "\n",
        "> [Observação:]{style=\"color:yellow\"} Note que no exemplo anterior, em cada bloco aparecem todos os tratamentos, neste caso o delineamento é <ins>balanceado</ins>.\n",
        "\n",
        "-   **Delineamento em Quadrados Latinos**: Exige a construção de blocos em duas direções. Note que neste caso teremos um arranjo quadrado de $p$ tratamentos, que são usualmente denotados por letras latinas, daí o nome quadrados latinos. Neste delineamento temos <ins>duas restrições</ins> na aleatorização.\n",
        "\n",
        "---"
      ],
      "id": "368e4fec"
    },
    {
      "cell_type": "markdown",
      "metadata": {},
      "source": [
        "-   **Delineamento Fatorial**: Utilizado quando se deseja analizar a influência de dois ou mais fatores e suas <ins>possíveis interações</ins>. O tipo mais simples de um experimento fatorial é o $2 \\times 2$, em que temos dois fatores e dois níveis.\n",
        "\n",
        ". . .\n",
        "\n",
        "> De um modo geral temos os chamados fatoriais $k_1,\\ldots,k_q$, em que $q$ é número de fatores e $k_i$ é o número de níveis do $i-$ésimo fator."
      ],
      "id": "0c5e7a25"
    },
    {
      "cell_type": "markdown",
      "metadata": {},
      "source": [
        "---\n",
        "\n",
        "## Política de proteção aos direitos autorais\n",
        "\n",
        "<font size=\"6\">[O conteúdo disponível consiste em material protegido pela legislação brasileira, sendo certo que, por ser o detentor dos direitos sobre o conteúdo disponível na plataforma, o **LECON** e o **NEAEST** detém direito exclusivo de usar, fruir e dispor de sua obra, conforme Artigo 5<sup>o</sup>, inciso XXVII, da Constituição Federal e os Artigos 7<sup>o</sup> e 28<sup>o</sup>, da Lei 9.610/98. A divulgação e/ou veiculação do conteúdo em sites diferentes à plataforma e sem a devida autorização do **LECON** e o **NEAEST**, pode configurar violação de direito autoral, nos termos da Lei 9.610/98, inclusive podendo caracterizar conduta criminosa, conforme Artigo 184<sup>o</sup>, §1<sup>o</sup> a 3<sup>o</sup>, do Código Penal. É considerada como contrafação a reprodução não autorizada, integral ou parcial, de todo e qualquer conteúdo disponível na plataforma.]{style=\"color:lightblue\"}"
      ],
      "id": "3558b227"
    }
  ],
  "metadata": {
    "kernelspec": {
      "display_name": "Python 3",
      "language": "python",
      "name": "python3"
    }
  },
  "nbformat": 4,
  "nbformat_minor": 5
}